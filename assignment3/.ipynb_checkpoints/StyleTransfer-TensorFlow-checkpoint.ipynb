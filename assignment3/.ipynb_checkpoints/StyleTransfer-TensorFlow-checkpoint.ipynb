{
 "cells": [
  {
   "cell_type": "markdown",
   "metadata": {
    "tags": [
     "pdf-title"
    ]
   },
   "source": [
    "# Style Transfer\n",
    "In this notebook we will implement the style transfer technique from [\"Image Style Transfer Using Convolutional Neural Networks\" (Gatys et al., CVPR 2015)](http://www.cv-foundation.org/openaccess/content_cvpr_2016/papers/Gatys_Image_Style_Transfer_CVPR_2016_paper.pdf).\n",
    "\n",
    "The general idea is to take two images, and produce a new image that reflects the content of one but the artistic \"style\" of the other. We will do this by first formulating a loss function that matches the content and style of each respective image in the feature space of a deep network, and then performing gradient descent on the pixels of the image itself.\n",
    "\n",
    "The deep network we use as a feature extractor is [SqueezeNet](https://arxiv.org/abs/1602.07360), a small model that has been trained on ImageNet. You could use any network, but we chose SqueezeNet here for its small size and efficiency.\n",
    "\n",
    "Here's an example of the images you'll be able to produce by the end of this notebook:\n",
    "\n",
    "![caption](example_styletransfer.png)\n",
    "\n"
   ]
  },
  {
   "cell_type": "markdown",
   "metadata": {},
   "source": [
    "## Setup"
   ]
  },
  {
   "cell_type": "code",
   "execution_count": 1,
   "metadata": {
    "tags": [
     "pdf-ignore"
    ]
   },
   "outputs": [],
   "source": [
    "import os\n",
    "import numpy as np\n",
    "from scipy.misc import imread, imresize\n",
    "import matplotlib.pyplot as plt\n",
    "import tensorflow as tf\n",
    "\n",
    "# Helper functions to deal with image preprocessing\n",
    "from cs231n.image_utils import load_image, preprocess_image, deprocess_image\n",
    "from cs231n.classifiers.squeezenet import SqueezeNet\n",
    "\n",
    "%matplotlib inline\n",
    "%load_ext autoreload\n",
    "%autoreload 2\n",
    "\n",
    "def rel_error(x,y):\n",
    "    return np.max(np.abs(x - y) / (np.maximum(1e-8, np.abs(x) + np.abs(y))))\n",
    "\n",
    "# Older versions of scipy.misc.imresize yield different results\n",
    "# from newer versions, so we check to make sure scipy is up to date.\n",
    "def check_scipy():\n",
    "    import scipy\n",
    "    version = scipy.__version__.split('.')\n",
    "    if int(version[0]) < 1:\n",
    "        assert int(version[1]) >= 16, \"You must install SciPy >= 0.16.0 to complete this notebook.\"\n",
    "\n",
    "check_scipy()"
   ]
  },
  {
   "cell_type": "markdown",
   "metadata": {
    "tags": [
     "pdf-ignore"
    ]
   },
   "source": [
    "Load the pretrained SqueezeNet model. This model has been ported from PyTorch, see `cs231n/classifiers/squeezenet.py` for the model architecture. \n",
    "\n",
    "To use SqueezeNet, you will need to first **download the weights** by descending into the `cs231n/datasets` directory and running `get_squeezenet_tf.sh` . Note that if you ran `get_assignment3_data.sh` then SqueezeNet will already be downloaded."
   ]
  },
  {
   "cell_type": "code",
   "execution_count": 2,
   "metadata": {
    "tags": [
     "pdf-ignore"
    ]
   },
   "outputs": [],
   "source": [
    "# Load pretrained SqueezeNet model\n",
    "SAVE_PATH = 'cs231n/datasets/squeezenet.ckpt'\n",
    "if not os.path.exists(SAVE_PATH + \".index\"):\n",
    "    raise ValueError(\"You need to download SqueezeNet!\")"
   ]
  },
  {
   "cell_type": "code",
   "execution_count": 3,
   "metadata": {
    "tags": [
     "pdf-ignore"
    ]
   },
   "outputs": [
    {
     "name": "stderr",
     "output_type": "stream",
     "text": [
      "WARNING: Logging before flag parsing goes to stderr.\n",
      "W1001 12:33:04.848299 140736105722752 util.py:248] Unused attribute in object (root).net.layer-0: ['OBJECT_CONFIG_JSON']\n",
      "W1001 12:33:04.849992 140736105722752 util.py:248] Unused attribute in object (root).net.layer_with_weights-0: ['OBJECT_CONFIG_JSON']\n",
      "W1001 12:33:04.851072 140736105722752 util.py:248] Unused attribute in object (root).net.layer-2: ['OBJECT_CONFIG_JSON']\n",
      "W1001 12:33:04.852391 140736105722752 util.py:248] Unused attribute in object (root).net.layer-5: ['OBJECT_CONFIG_JSON']\n",
      "W1001 12:33:04.854514 140736105722752 util.py:248] Unused attribute in object (root).net.layer-8: ['OBJECT_CONFIG_JSON']\n",
      "W1001 12:33:04.856293 140736105722752 util.py:248] Unused attribute in object (root).net.layer_with_weights-9: ['OBJECT_CONFIG_JSON']\n",
      "W1001 12:33:04.860098 140736105722752 util.py:248] Unused attribute in object (root).net.layer-14: ['OBJECT_CONFIG_JSON']\n",
      "W1001 12:33:04.862020 140736105722752 util.py:248] Unused attribute in object (root).net.layer_with_weights-1.squeeze: ['OBJECT_CONFIG_JSON']\n",
      "W1001 12:33:04.866732 140736105722752 util.py:248] Unused attribute in object (root).net.layer_with_weights-1.expand1x1: ['OBJECT_CONFIG_JSON']\n",
      "W1001 12:33:04.868614 140736105722752 util.py:248] Unused attribute in object (root).net.layer_with_weights-1.expand3x3: ['OBJECT_CONFIG_JSON']\n",
      "W1001 12:33:04.871902 140736105722752 util.py:248] Unused attribute in object (root).net.layer_with_weights-2.squeeze: ['OBJECT_CONFIG_JSON']\n",
      "W1001 12:33:04.873950 140736105722752 util.py:248] Unused attribute in object (root).net.layer_with_weights-2.expand1x1: ['OBJECT_CONFIG_JSON']\n",
      "W1001 12:33:04.882938 140736105722752 util.py:248] Unused attribute in object (root).net.layer_with_weights-2.expand3x3: ['OBJECT_CONFIG_JSON']\n",
      "W1001 12:33:04.884171 140736105722752 util.py:248] Unused attribute in object (root).net.layer_with_weights-3.squeeze: ['OBJECT_CONFIG_JSON']\n",
      "W1001 12:33:04.885663 140736105722752 util.py:248] Unused attribute in object (root).net.layer_with_weights-3.expand1x1: ['OBJECT_CONFIG_JSON']\n",
      "W1001 12:33:04.886883 140736105722752 util.py:248] Unused attribute in object (root).net.layer_with_weights-3.expand3x3: ['OBJECT_CONFIG_JSON']\n",
      "W1001 12:33:04.889009 140736105722752 util.py:248] Unused attribute in object (root).net.layer_with_weights-4.squeeze: ['OBJECT_CONFIG_JSON']\n",
      "W1001 12:33:04.891469 140736105722752 util.py:248] Unused attribute in object (root).net.layer_with_weights-4.expand1x1: ['OBJECT_CONFIG_JSON']\n",
      "W1001 12:33:04.893656 140736105722752 util.py:248] Unused attribute in object (root).net.layer_with_weights-4.expand3x3: ['OBJECT_CONFIG_JSON']\n",
      "W1001 12:33:04.895770 140736105722752 util.py:248] Unused attribute in object (root).net.layer_with_weights-5.squeeze: ['OBJECT_CONFIG_JSON']\n",
      "W1001 12:33:04.896766 140736105722752 util.py:248] Unused attribute in object (root).net.layer_with_weights-5.expand1x1: ['OBJECT_CONFIG_JSON']\n",
      "W1001 12:33:04.898605 140736105722752 util.py:248] Unused attribute in object (root).net.layer_with_weights-5.expand3x3: ['OBJECT_CONFIG_JSON']\n",
      "W1001 12:33:04.901550 140736105722752 util.py:248] Unused attribute in object (root).net.layer_with_weights-6.squeeze: ['OBJECT_CONFIG_JSON']\n",
      "W1001 12:33:04.906162 140736105722752 util.py:248] Unused attribute in object (root).net.layer_with_weights-6.expand1x1: ['OBJECT_CONFIG_JSON']\n",
      "W1001 12:33:04.908989 140736105722752 util.py:248] Unused attribute in object (root).net.layer_with_weights-6.expand3x3: ['OBJECT_CONFIG_JSON']\n",
      "W1001 12:33:04.916589 140736105722752 util.py:248] Unused attribute in object (root).net.layer_with_weights-7.squeeze: ['OBJECT_CONFIG_JSON']\n",
      "W1001 12:33:04.919167 140736105722752 util.py:248] Unused attribute in object (root).net.layer_with_weights-7.expand1x1: ['OBJECT_CONFIG_JSON']\n",
      "W1001 12:33:04.921445 140736105722752 util.py:248] Unused attribute in object (root).net.layer_with_weights-7.expand3x3: ['OBJECT_CONFIG_JSON']\n",
      "W1001 12:33:04.923787 140736105722752 util.py:248] Unused attribute in object (root).net.layer_with_weights-8.squeeze: ['OBJECT_CONFIG_JSON']\n",
      "W1001 12:33:04.932886 140736105722752 util.py:248] Unused attribute in object (root).net.layer_with_weights-8.expand1x1: ['OBJECT_CONFIG_JSON']\n",
      "W1001 12:33:04.936150 140736105722752 util.py:248] Unused attribute in object (root).net.layer_with_weights-8.expand3x3: ['OBJECT_CONFIG_JSON']\n",
      "W1001 12:33:04.938421 140736105722752 util.py:252] A checkpoint was restored (e.g. tf.train.Checkpoint.restore or tf.keras.Model.load_weights) but not all checkpointed values were used. See above for specific issues. Use expect_partial() on the load status object, e.g. tf.train.Checkpoint.restore(...).expect_partial(), to silence these warnings, or use assert_consumed() to make the check explicit. See https://www.tensorflow.org/alpha/guide/checkpoints#loading_mechanics for details.\n"
     ]
    }
   ],
   "source": [
    "model=SqueezeNet()\n",
    "model.load_weights(SAVE_PATH)\n",
    "model.trainable=False\n",
    "\n",
    "# Load data for testing\n",
    "content_img_test = preprocess_image(load_image('styles/tubingen.jpg', size=192))[None]\n",
    "style_img_test = preprocess_image(load_image('styles/starry_night.jpg', size=192))[None]\n",
    "answers = np.load('style-transfer-checks-tf.npz')\n"
   ]
  },
  {
   "cell_type": "markdown",
   "metadata": {},
   "source": [
    "## Computing Loss\n",
    "\n",
    "We're going to compute the three components of our loss function now. The loss function is a weighted sum of three terms: content loss + style loss + total variation loss. You'll fill in the functions that compute these weighted terms below."
   ]
  },
  {
   "cell_type": "markdown",
   "metadata": {},
   "source": [
    "## Content loss\n",
    "We can generate an image that reflects the content of one image and the style of another by incorporating both in our loss function. We want to penalize deviations from the content of the content image and deviations from the style of the style image. We can then use this hybrid loss function to perform gradient descent **not on the parameters** of the model, but instead **on the pixel values** of our original image.\n",
    "\n",
    "Let's first write the content loss function. Content loss measures how much the feature map of the generated image differs from the feature map of the source image. We only care about the content representation of one layer of the network (say, layer $\\ell$), that has feature maps $A^\\ell \\in \\mathbb{R}^{1 \\times H_\\ell \\times W_\\ell \\times C_\\ell}$. $C_\\ell$ is the number of filters/channels in layer $\\ell$, $H_\\ell$ and $W_\\ell$ are the height and width. We will work with reshaped versions of these feature maps that combine all spatial positions into one dimension. Let $F^\\ell \\in \\mathbb{R}^{M_\\ell \\times C_\\ell}$ be the feature map for the current image and $P^\\ell \\in \\mathbb{R}^{M_\\ell \\times C_\\ell}$ be the feature map for the content source image where $M_\\ell=H_\\ell\\times W_\\ell$ is the number of elements in each feature map. Each row of $F^\\ell$ or $P^\\ell$ represents the vectorized activations of a particular filter, convolved over all positions of the image. Finally, let $w_c$ be the weight of the content loss term in the loss function.\n",
    "\n",
    "Then the content loss is given by:\n",
    "\n",
    "$L_c = w_c \\times \\sum_{i,j} (F_{ij}^{\\ell} - P_{ij}^{\\ell})^2$"
   ]
  },
  {
   "cell_type": "code",
   "execution_count": 142,
   "metadata": {},
   "outputs": [],
   "source": [
    "def content_loss(content_weight, content_current, content_original):\n",
    "    \"\"\"\n",
    "    Compute the content loss for style transfer.\n",
    "    \n",
    "    Inputs:\n",
    "    - content_weight: scalar constant we multiply the content_loss by.\n",
    "    - content_current: features of the current image, Tensor with shape [1, height, width, channels]\n",
    "    - content_target: features of the content image, Tensor with shape [1, height, width, channels]\n",
    "    \n",
    "    Returns:\n",
    "    - scalar content loss\n",
    "    \"\"\"\n",
    "    # *****START OF YOUR CODE (DO NOT DELETE/MODIFY THIS LINE)*****\n",
    "    return tf.constant(content_weight * np.sum((content_current - content_original)**2))\n",
    "\n",
    "    # *****END OF YOUR CODE (DO NOT DELETE/MODIFY THIS LINE)*****\n"
   ]
  },
  {
   "cell_type": "code",
   "execution_count": 143,
   "metadata": {},
   "outputs": [],
   "source": [
    "# We provide this helper code which takes an image, a model (cnn), and returns a list of\n",
    "# feature maps, one per layer.\n",
    "def extract_features(x, cnn):\n",
    "    \"\"\"\n",
    "    Use the CNN to extract features from the input image x.\n",
    "    \n",
    "    Inputs:\n",
    "    - x: A Tensor of shape (N, H, W, C) holding a minibatch of images that\n",
    "      will be fed to the CNN.\n",
    "    - cnn: A Tensorflow model that we will use to extract features.\n",
    "    \n",
    "    Returns:\n",
    "    - features: A list of feature for the input images x extracted using the cnn model.\n",
    "      features[i] is a Tensor of shape (N, H_i, W_i, C_i); recall that features\n",
    "      from different layers of the network may have different numbers of channels (C_i) and\n",
    "      spatial dimensions (H_i, W_i).\n",
    "    \"\"\"\n",
    "    features = []\n",
    "    prev_feat = x\n",
    "    for i, layer in enumerate(cnn.net.layers[:-2]):\n",
    "        next_feat = layer(prev_feat)\n",
    "        features.append(next_feat)\n",
    "        prev_feat = next_feat\n",
    "    return features"
   ]
  },
  {
   "cell_type": "markdown",
   "metadata": {},
   "source": [
    "Test your content loss. The error should be less than 1e-8."
   ]
  },
  {
   "cell_type": "code",
   "execution_count": 144,
   "metadata": {},
   "outputs": [
    {
     "name": "stdout",
     "output_type": "stream",
     "text": [
      "Maximum error is 0.000\n"
     ]
    }
   ],
   "source": [
    "def content_loss_test(correct):\n",
    "    content_layer = 2\n",
    "    content_weight = 6e-2\n",
    "    c_feats = extract_features(content_img_test, model)[content_layer]\n",
    "    bad_img = tf.zeros(content_img_test.shape)\n",
    "    feats = extract_features(bad_img, model)[content_layer]\n",
    "    student_output = content_loss(content_weight, c_feats, feats)\n",
    "    error = rel_error(correct, student_output)\n",
    "    print('Maximum error is {:.3f}'.format(error))\n",
    "\n",
    "content_loss_test(answers['cl_out'])"
   ]
  },
  {
   "cell_type": "markdown",
   "metadata": {},
   "source": [
    "## Style loss\n",
    "Now we can tackle the style loss. For a given layer $\\ell$, the style loss is defined as follows:\n",
    "\n",
    "First, compute the Gram matrix G which represents the correlations between the responses of each filter, where F is as above. The Gram matrix is an approximation to the covariance matrix -- we want the activation statistics of our generated image to match the activation statistics of our style image, and matching the (approximate) covariance is one way to do that. There are a variety of ways you could do this, but the Gram matrix is nice because it's easy to compute and in practice shows good results.\n",
    "\n",
    "Given a feature map $F^\\ell$ of shape $(M_\\ell, C_\\ell)$, the Gram matrix has shape $(C_\\ell, C_\\ell)$ and its elements are given by:\n",
    "\n",
    "$$G_{ij}^\\ell  = \\sum_k F^{\\ell}_{ki} F^{\\ell}_{kj}$$\n",
    "\n",
    "Assuming $G^\\ell$ is the Gram matrix from the feature map of the current image, $A^\\ell$ is the Gram Matrix from the feature map of the source style image, and $w_\\ell$ a scalar weight term, then the style loss for the layer $\\ell$ is simply the weighted Euclidean distance between the two Gram matrices:\n",
    "\n",
    "$$L_s^\\ell = w_\\ell \\sum_{i, j} \\left(G^\\ell_{ij} - A^\\ell_{ij}\\right)^2$$\n",
    "\n",
    "In practice we usually compute the style loss at a set of layers $\\mathcal{L}$ rather than just a single layer $\\ell$; then the total style loss is the sum of style losses at each layer:\n",
    "\n",
    "$$L_s = \\sum_{\\ell \\in \\mathcal{L}} L_s^\\ell$$\n",
    "\n",
    "Begin by implementing the Gram matrix computation below:"
   ]
  },
  {
   "cell_type": "code",
   "execution_count": 95,
   "metadata": {},
   "outputs": [],
   "source": [
    "def gram_matrix(features, normalize=True):\n",
    "    \"\"\"\n",
    "    Compute the Gram matrix from features.\n",
    "    \n",
    "    Inputs:\n",
    "    - features: Tensor of shape (1, H, W, C) giving features for\n",
    "      a single image.\n",
    "    - normalize: optional, whether to normalize the Gram matrix\n",
    "        If True, divide the Gram matrix by the number of neurons (H * W * C)\n",
    "    \n",
    "    Returns:\n",
    "    - gram: Tensor of shape (C, C) giving the (optionally normalized)\n",
    "      Gram matrices for the input image.\n",
    "    \"\"\"\n",
    "    # *****START OF YOUR CODE (DO NOT DELETE/MODIFY THIS LINE)*****\n",
    "    N, H, W, C = features.shape\n",
    "    features = tf.reshape(features, [H*W, C])\n",
    "    gram_matrix = tf.matmul(tf.transpose(features), features)\n",
    "    if(normalize):\n",
    "        gram_matrix /= H*W*C\n",
    "    return tf.convert_to_tensor(gram_matrix)\n",
    "    # *****END OF YOUR CODE (DO NOT DELETE/MODIFY THIS LINE)*****\n"
   ]
  },
  {
   "cell_type": "markdown",
   "metadata": {},
   "source": [
    "Test your Gram matrix code. You should see errors less than 0.001."
   ]
  },
  {
   "cell_type": "code",
   "execution_count": 96,
   "metadata": {},
   "outputs": [
    {
     "name": "stdout",
     "output_type": "stream",
     "text": [
      "Maximum error is 0.000\n"
     ]
    }
   ],
   "source": [
    "def gram_matrix_test(correct):\n",
    "    gram = gram_matrix(extract_features(style_img_test, model)[4]) ### 4 instead of 5 - second MaxPooling layer\n",
    "    error = rel_error(correct, gram)\n",
    "    print('Maximum error is {:.3f}'.format(error))\n",
    "\n",
    "gram_matrix_test(answers['gm_out'])"
   ]
  },
  {
   "cell_type": "markdown",
   "metadata": {},
   "source": [
    "Next, implement the style loss:"
   ]
  },
  {
   "cell_type": "code",
   "execution_count": 78,
   "metadata": {},
   "outputs": [],
   "source": [
    "def style_loss(feats, style_layers, style_targets, style_weights):\n",
    "    \"\"\"\n",
    "    Computes the style loss at a set of layers.\n",
    "    \n",
    "    Inputs:\n",
    "    - feats: list of the features at every layer of the current image, as produced by\n",
    "      the extract_features function.\n",
    "    - style_layers: List of layer indices into feats giving the layers to include in the\n",
    "      style loss.\n",
    "    - style_targets: List of the same length as style_layers, where style_targets[i] is\n",
    "      a Tensor giving the Gram matrix of the source style image computed at\n",
    "      layer style_layers[i].\n",
    "    - style_weights: List of the same length as style_layers, where style_weights[i]\n",
    "      is a scalar giving the weight for the style loss at layer style_layers[i].\n",
    "      \n",
    "    Returns:\n",
    "    - style_loss: A Tensor containing the scalar style loss.\n",
    "    \"\"\"\n",
    "    # Hint: you can do this with one for loop over the style layers, and should\n",
    "    # not be short code (~5 lines). You will need to use your gram_matrix function.\n",
    "    # *****START OF YOUR CODE (DO NOT DELETE/MODIFY THIS LINE)*****\n",
    "    style_loss = 0.0\n",
    "    for i in range(len(style_layers)):\n",
    "        f = tf.convert_to_tensor(feats[style_layers[i]])\n",
    "        s = tf.convert_to_tensor(style_targets[i])\n",
    "        style_loss += style_weights[i] * np.sum((gram_matrix(f)- s)**2)\n",
    "        \n",
    "    return tf.convert_to_tensor(style_loss)\n",
    "    # *****END OF YOUR CODE (DO NOT DELETE/MODIFY THIS LINE)*****\n"
   ]
  },
  {
   "cell_type": "markdown",
   "metadata": {},
   "source": [
    "Test your style loss implementation. The error should be less than 0.001."
   ]
  },
  {
   "cell_type": "code",
   "execution_count": 92,
   "metadata": {},
   "outputs": [
    {
     "name": "stdout",
     "output_type": "stream",
     "text": [
      "Error is 0.000\n"
     ]
    }
   ],
   "source": [
    "def style_loss_test(correct):\n",
    "    style_layers = [0, 3, 5, 6]\n",
    "    style_weights = [300000, 1000, 15, 3]\n",
    "    \n",
    "    c_feats = extract_features(content_img_test, model)\n",
    "    feats = extract_features(style_img_test, model)\n",
    "    style_targets = []\n",
    "    for idx in style_layers:\n",
    "        style_targets.append(gram_matrix(feats[idx]))\n",
    "                             \n",
    "    s_loss = style_loss(c_feats, style_layers, style_targets, style_weights)\n",
    "    error = rel_error(correct, s_loss)\n",
    "    print('Error is {:.3f}'.format(error))\n",
    "\n",
    "style_loss_test(answers['sl_out'])"
   ]
  },
  {
   "cell_type": "markdown",
   "metadata": {},
   "source": [
    "## Total-variation regularization\n",
    "It turns out that it's helpful to also encourage smoothness in the image. We can do this by adding another term to our loss that penalizes wiggles or \"total variation\" in the pixel values. \n",
    "\n",
    "You can compute the \"total variation\" as the sum of the squares of differences in the pixel values for all pairs of pixels that are next to each other (horizontally or vertically). Here we sum the total-variation regualarization for each of the 3 input channels (RGB), and weight the total summed loss by the total variation weight, $w_t$:\n",
    "\n",
    "$L_{tv} = w_t \\times \\left(\\sum_{c=1}^3\\sum_{i=1}^{H-1}\\sum_{j=1}^{W} (x_{i+1,j,c} - x_{i,j,c})^2 + \\sum_{c=1}^3\\sum_{i=1}^{H}\\sum_{j=1}^{W - 1} (x_{i,j+1,c} - x_{i,j,c})^2\\right)$\n",
    "\n",
    "In the next cell, fill in the definition for the TV loss term. To receive full credit, your implementation should not have any loops."
   ]
  },
  {
   "cell_type": "code",
   "execution_count": 155,
   "metadata": {},
   "outputs": [],
   "source": [
    "def tv_loss(img, tv_weight):\n",
    "    \"\"\"\n",
    "    Compute total variation loss.\n",
    "    \n",
    "    Inputs:\n",
    "    - img: Tensor of shape (1, H, W, 3) holding an input image.\n",
    "    - tv_weight: Scalar giving the weight w_t to use for the TV loss.\n",
    "    \n",
    "    Returns:\n",
    "    - loss: Tensor holding a scalar giving the total variation loss\n",
    "      for img weighted by tv_weight.\n",
    "    \"\"\"\n",
    "    # Your implementation should be vectorized and not require any loops!\n",
    "    # *****START OF YOUR CODE (DO NOT DELETE/MODIFY THIS LINE)*****\n",
    "    N, H, W, _ = img.shape\n",
    "    img = tf.convert_to_tensor(img)\n",
    "    t_loss = tv_weight * (np.sum((img[:,1:H] - img[:,:H-1])**2) + np.sum((img[:,:, 1:W] - img[:,:, :W-1]) **2)) \n",
    "    return tf.constant(t_loss)\n",
    "\n",
    "    # *****END OF YOUR CODE (DO NOT DELETE/MODIFY THIS LINE)*****\n"
   ]
  },
  {
   "cell_type": "markdown",
   "metadata": {},
   "source": [
    "Test your TV loss implementation. Error should be less  than 0.001."
   ]
  },
  {
   "cell_type": "code",
   "execution_count": 156,
   "metadata": {},
   "outputs": [
    {
     "name": "stdout",
     "output_type": "stream",
     "text": [
      "Error is 0.000\n"
     ]
    }
   ],
   "source": [
    "def tv_loss_test(correct):\n",
    "    tv_weight = 2e-2\n",
    "    t_loss = tv_loss(content_img_test, tv_weight)\n",
    "    error = rel_error(correct, t_loss)\n",
    "    print('Error is {:.3f}'.format(error))\n",
    "\n",
    "tv_loss_test(answers['tv_out'])"
   ]
  },
  {
   "cell_type": "markdown",
   "metadata": {},
   "source": [
    "## Style Transfer"
   ]
  },
  {
   "cell_type": "markdown",
   "metadata": {},
   "source": [
    "Lets put it all together and make some beautiful images! The `style_transfer` function below combines all the losses you coded up above and optimizes for an image that minimizes the total loss."
   ]
  },
  {
   "cell_type": "code",
   "execution_count": 163,
   "metadata": {
    "tags": [
     "pdf-ignore-input"
    ]
   },
   "outputs": [],
   "source": [
    "def style_transfer(content_image, style_image, image_size, style_size, content_layer, content_weight,\n",
    "                   style_layers, style_weights, tv_weight, init_random = False):\n",
    "    \"\"\"Run style transfer!\n",
    "    \n",
    "    Inputs:\n",
    "    - content_image: filename of content image\n",
    "    - style_image: filename of style image\n",
    "    - image_size: size of smallest image dimension (used for content loss and generated image)\n",
    "    - style_size: size of smallest style image dimension\n",
    "    - content_layer: layer to use for content loss\n",
    "    - content_weight: weighting on content loss\n",
    "    - style_layers: list of layers to use for style loss\n",
    "    - style_weights: list of weights to use for each layer in style_layers\n",
    "    - tv_weight: weight of total variation regularization term\n",
    "    - init_random: initialize the starting image to uniform random noise\n",
    "    \"\"\"\n",
    "    # Extract features from the content image\n",
    "    content_img = preprocess_image(load_image(content_image, size=image_size))\n",
    "    feats = extract_features(content_img[None], model)\n",
    "    content_target = feats[content_layer]\n",
    "    \n",
    "    # Extract features from the style image\n",
    "    style_img = preprocess_image(load_image(style_image, size=style_size))\n",
    "    s_feats = extract_features(style_img[None], model)\n",
    "    style_targets = []\n",
    "    # Compute list of TensorFlow Gram matrices\n",
    "    for idx in style_layers:\n",
    "        style_targets.append(gram_matrix(s_feats[idx]))\n",
    "    \n",
    "    # Set up optimization hyperparameters\n",
    "    initial_lr = 3.0\n",
    "    decayed_lr = 0.1\n",
    "    decay_lr_at = 180\n",
    "    max_iter = 200\n",
    "    \n",
    "    step = tf.Variable(0, trainable=False)\n",
    "    boundaries = [decay_lr_at]\n",
    "    values = [initial_lr, decayed_lr]\n",
    "    learning_rate_fn = tf.keras.optimizers.schedules.PiecewiseConstantDecay(boundaries, values)\n",
    "\n",
    "    # Later, whenever we perform an optimization step, we pass in the step.\n",
    "    learning_rate = learning_rate_fn(step)\n",
    "\n",
    "    optimizer = tf.keras.optimizers.Adam(learning_rate=learning_rate)\n",
    "        \n",
    "    # Initialize the generated image and optimization variables\n",
    "    \n",
    "    f, axarr = plt.subplots(1,2)\n",
    "    axarr[0].axis('off')\n",
    "    axarr[1].axis('off')\n",
    "    axarr[0].set_title('Content Source Img.')\n",
    "    axarr[1].set_title('Style Source Img.')\n",
    "    axarr[0].imshow(deprocess_image(content_img))\n",
    "    axarr[1].imshow(deprocess_image(style_img))\n",
    "    plt.show()\n",
    "    plt.figure()\n",
    "    \n",
    "    # Initialize generated image to content image\n",
    "    if init_random:\n",
    "        initializer = tf.random_uniform_initializer(0, 1)\n",
    "        img = initializer(shape=content_img[None].shape)\n",
    "        img_var = tf.Variable(img)\n",
    "        print(\"Intializing randomly.\")\n",
    "    else:\n",
    "        img_var = tf.Variable(content_img[None])\n",
    "        print(\"Initializing with content image.\")\n",
    "        \n",
    "    content_weight = tf.constant(content_weight)\n",
    "   \n",
    "    for t in range(max_iter):\n",
    "        with tf.GradientTape() as tape:\n",
    "            tape.watch(img_var)\n",
    "            feats = extract_features(img_var, model)\n",
    "            # Compute loss\n",
    "            c_loss = content_loss(content_weight, tf.convert_to_tensor(feats[content_layer]), tf.convert_to_tensor(content_target))\n",
    "            s_loss = style_loss(feats, style_layers, style_targets, style_weights)\n",
    "            t_loss = tv_loss(img_var, tf.constant(tv_weight)\n",
    "            loss = c_loss + s_loss + t_loss\n",
    "            loss = t_loss\n",
    "        # Compute gradient\n",
    "     \n",
    "        \n",
    "        grad = tape.gradient(loss, img_var)\n",
    "        print(grad)\n",
    "     \n",
    "        optimizer.apply_gradients([(grad, img_var)])\n",
    "        \n",
    "        img_var.assign(tf.clip_by_value(img_var, -1.5, 1.5))\n",
    "            \n",
    "        if t % 100 == 0:\n",
    "            print('Iteration {}'.format(t))\n",
    "            plt.imshow(deprocess_image(img_var[0].numpy(), rescale=True))\n",
    "            plt.axis('off')\n",
    "            plt.show()\n",
    "    print('Iteration {}'.format(t))    \n",
    "    plt.imshow(deprocess_image(img_var[0].numpy(), rescale=True))\n",
    "    plt.axis('off')\n",
    "    plt.show()"
   ]
  },
  {
   "cell_type": "markdown",
   "metadata": {},
   "source": [
    "## Generate some pretty pictures!\n",
    "\n",
    "Try out `style_transfer` on the three different parameter sets below. Make sure to run all three cells. Feel free to add your own, but make sure to include the results of style transfer on the third parameter set (starry night) in your submitted notebook.\n",
    "\n",
    "* The `content_image` is the filename of content image.\n",
    "* The `style_image` is the filename of style image.\n",
    "* The `image_size` is the size of smallest image dimension of the content image (used for content loss and generated image).\n",
    "* The `style_size` is the size of smallest style image dimension.\n",
    "* The `content_layer` specifies which layer to use for content loss.\n",
    "* The `content_weight` gives weighting on content loss in the overall loss function. Increasing the value of this parameter will make the final image look more realistic (closer to the original content).\n",
    "* `style_layers` specifies a list of which layers to use for style loss. \n",
    "* `style_weights` specifies a list of weights to use for each layer in style_layers (each of which will contribute a term to the overall style loss). We generally use higher weights for the earlier style layers because they describe more local/smaller scale features, which are more important to texture than features over larger receptive fields. In general, increasing these weights will make the resulting image look less like the original content and more distorted towards the appearance of the style image.\n",
    "* `tv_weight` specifies the weighting of total variation regularization in the overall loss function. Increasing this value makes the resulting image look smoother and less jagged, at the cost of lower fidelity to style and content. \n",
    "\n",
    "Below the next three cells of code (in which you shouldn't change the hyperparameters), feel free to copy and paste the parameters to play around them and see how the resulting image changes. "
   ]
  },
  {
   "cell_type": "code",
   "execution_count": 164,
   "metadata": {},
   "outputs": [
    {
     "data": {
      "image/png": "[encoded data removed]",
      "text/plain": [
       "<Figure size 432x288 with 2 Axes>"
      ]
     },
     "metadata": {
      "needs_background": "light"
     },
     "output_type": "display_data"
    },
    {
     "name": "stdout",
     "output_type": "stream",
     "text": [
      "Initializing with content image.\n",
      "None\n"
     ]
    },
    {
     "ename": "ValueError",
     "evalue": "No gradients provided for any variable: ['Variable:0'].",
     "output_type": "error",
     "traceback": [
      "\u001b[0;31m---------------------------------------------------------------------------\u001b[0m",
      "\u001b[0;31mValueError\u001b[0m                                Traceback (most recent call last)",
      "\u001b[0;32m<ipython-input-164-1df24b77db5b>\u001b[0m in \u001b[0;36m<module>\u001b[0;34m\u001b[0m\n\u001b[1;32m     12\u001b[0m }\n\u001b[1;32m     13\u001b[0m \u001b[0;34m\u001b[0m\u001b[0m\n\u001b[0;32m---> 14\u001b[0;31m \u001b[0mstyle_transfer\u001b[0m\u001b[0;34m(\u001b[0m\u001b[0;34m**\u001b[0m\u001b[0mparams1\u001b[0m\u001b[0;34m)\u001b[0m\u001b[0;34m\u001b[0m\u001b[0;34m\u001b[0m\u001b[0m\n\u001b[0m",
      "\u001b[0;32m<ipython-input-163-1cff58cf00ea>\u001b[0m in \u001b[0;36mstyle_transfer\u001b[0;34m(content_image, style_image, image_size, style_size, content_layer, content_weight, style_layers, style_weights, tv_weight, init_random)\u001b[0m\n\u001b[1;32m     84\u001b[0m         \u001b[0mprint\u001b[0m\u001b[0;34m(\u001b[0m\u001b[0mgrad\u001b[0m\u001b[0;34m)\u001b[0m\u001b[0;34m\u001b[0m\u001b[0;34m\u001b[0m\u001b[0m\n\u001b[1;32m     85\u001b[0m \u001b[0;34m\u001b[0m\u001b[0m\n\u001b[0;32m---> 86\u001b[0;31m         \u001b[0moptimizer\u001b[0m\u001b[0;34m.\u001b[0m\u001b[0mapply_gradients\u001b[0m\u001b[0;34m(\u001b[0m\u001b[0;34m[\u001b[0m\u001b[0;34m(\u001b[0m\u001b[0mgrad\u001b[0m\u001b[0;34m,\u001b[0m \u001b[0mimg_var\u001b[0m\u001b[0;34m)\u001b[0m\u001b[0;34m]\u001b[0m\u001b[0;34m)\u001b[0m\u001b[0;34m\u001b[0m\u001b[0;34m\u001b[0m\u001b[0m\n\u001b[0m\u001b[1;32m     87\u001b[0m \u001b[0;34m\u001b[0m\u001b[0m\n\u001b[1;32m     88\u001b[0m         \u001b[0mimg_var\u001b[0m\u001b[0;34m.\u001b[0m\u001b[0massign\u001b[0m\u001b[0;34m(\u001b[0m\u001b[0mtf\u001b[0m\u001b[0;34m.\u001b[0m\u001b[0mclip_by_value\u001b[0m\u001b[0;34m(\u001b[0m\u001b[0mimg_var\u001b[0m\u001b[0;34m,\u001b[0m \u001b[0;34m-\u001b[0m\u001b[0;36m1.5\u001b[0m\u001b[0;34m,\u001b[0m \u001b[0;36m1.5\u001b[0m\u001b[0;34m)\u001b[0m\u001b[0;34m)\u001b[0m\u001b[0;34m\u001b[0m\u001b[0;34m\u001b[0m\u001b[0m\n",
      "\u001b[0;32m/anaconda3/lib/python3.7/site-packages/tensorflow/python/keras/optimizer_v2/optimizer_v2.py\u001b[0m in \u001b[0;36mapply_gradients\u001b[0;34m(self, grads_and_vars, name)\u001b[0m\n\u001b[1;32m    425\u001b[0m       \u001b[0mValueError\u001b[0m\u001b[0;34m:\u001b[0m \u001b[0mIf\u001b[0m \u001b[0mnone\u001b[0m \u001b[0mof\u001b[0m \u001b[0mthe\u001b[0m \u001b[0mvariables\u001b[0m \u001b[0mhave\u001b[0m \u001b[0mgradients\u001b[0m\u001b[0;34m.\u001b[0m\u001b[0;34m\u001b[0m\u001b[0;34m\u001b[0m\u001b[0m\n\u001b[1;32m    426\u001b[0m     \"\"\"\n\u001b[0;32m--> 427\u001b[0;31m     \u001b[0mgrads_and_vars\u001b[0m \u001b[0;34m=\u001b[0m \u001b[0m_filter_grads\u001b[0m\u001b[0;34m(\u001b[0m\u001b[0mgrads_and_vars\u001b[0m\u001b[0;34m)\u001b[0m\u001b[0;34m\u001b[0m\u001b[0;34m\u001b[0m\u001b[0m\n\u001b[0m\u001b[1;32m    428\u001b[0m     \u001b[0mvar_list\u001b[0m \u001b[0;34m=\u001b[0m \u001b[0;34m[\u001b[0m\u001b[0mv\u001b[0m \u001b[0;32mfor\u001b[0m \u001b[0;34m(\u001b[0m\u001b[0m_\u001b[0m\u001b[0;34m,\u001b[0m \u001b[0mv\u001b[0m\u001b[0;34m)\u001b[0m \u001b[0;32min\u001b[0m \u001b[0mgrads_and_vars\u001b[0m\u001b[0;34m]\u001b[0m\u001b[0;34m\u001b[0m\u001b[0;34m\u001b[0m\u001b[0m\n\u001b[1;32m    429\u001b[0m \u001b[0;34m\u001b[0m\u001b[0m\n",
      "\u001b[0;32m/anaconda3/lib/python3.7/site-packages/tensorflow/python/keras/optimizer_v2/optimizer_v2.py\u001b[0m in \u001b[0;36m_filter_grads\u001b[0;34m(grads_and_vars)\u001b[0m\n\u001b[1;32m    973\u001b[0m   \u001b[0;32mif\u001b[0m \u001b[0;32mnot\u001b[0m \u001b[0mfiltered\u001b[0m\u001b[0;34m:\u001b[0m\u001b[0;34m\u001b[0m\u001b[0;34m\u001b[0m\u001b[0m\n\u001b[1;32m    974\u001b[0m     raise ValueError(\"No gradients provided for any variable: %s.\" %\n\u001b[0;32m--> 975\u001b[0;31m                      ([v.name for _, v in grads_and_vars],))\n\u001b[0m\u001b[1;32m    976\u001b[0m   \u001b[0;32mif\u001b[0m \u001b[0mvars_with_empty_grads\u001b[0m\u001b[0;34m:\u001b[0m\u001b[0;34m\u001b[0m\u001b[0;34m\u001b[0m\u001b[0m\n\u001b[1;32m    977\u001b[0m     logging.warning(\n",
      "\u001b[0;31mValueError\u001b[0m: No gradients provided for any variable: ['Variable:0']."
     ]
    },
    {
     "data": {
      "text/plain": [
       "<Figure size 432x288 with 0 Axes>"
      ]
     },
     "metadata": {},
     "output_type": "display_data"
    }
   ],
   "source": [
    "# Composition VII + Tubingen\n",
    "params1 = {\n",
    "    'content_image' : 'styles/tubingen.jpg',\n",
    "    'style_image' : 'styles/composition_vii.jpg',\n",
    "    'image_size' : 192,\n",
    "    'style_size' : 512,\n",
    "    'content_layer' : 2,\n",
    "    'content_weight' : 5e-2, \n",
    "    'style_layers' : (0, 3, 5, 6),\n",
    "    'style_weights' : (20000, 500, 12, 1),\n",
    "    'tv_weight' : 5e-2\n",
    "}\n",
    "\n",
    "style_transfer(**params1)"
   ]
  },
  {
   "cell_type": "code",
   "execution_count": null,
   "metadata": {
    "scrolled": true
   },
   "outputs": [],
   "source": [
    "# Scream + Tubingen\n",
    "params2 = {\n",
    "    'content_image':'styles/tubingen.jpg',\n",
    "    'style_image':'styles/the_scream.jpg',\n",
    "    'image_size':192,\n",
    "    'style_size':224,\n",
    "    'content_layer':2,\n",
    "    'content_weight':3e-2,\n",
    "    'style_layers':[0, 3, 5, 6],\n",
    "    'style_weights':[200000, 800, 12, 1],\n",
    "    'tv_weight':2e-2\n",
    "}\n",
    "\n",
    "style_transfer(**params2)"
   ]
  },
  {
   "cell_type": "code",
   "execution_count": null,
   "metadata": {},
   "outputs": [],
   "source": [
    "# Starry Night + Tubingen\n",
    "params3 = {\n",
    "    'content_image' : 'styles/tubingen.jpg',\n",
    "    'style_image' : 'styles/starry_night.jpg',\n",
    "    'image_size' : 192,\n",
    "    'style_size' : 192,\n",
    "    'content_layer' : 2,\n",
    "    'content_weight' : 6e-2,\n",
    "    'style_layers' : [0, 3, 5, 6],\n",
    "    'style_weights' : [300000, 1000, 15, 3],\n",
    "    'tv_weight' : 2e-2\n",
    "}\n",
    "\n",
    "style_transfer(**params3)"
   ]
  },
  {
   "cell_type": "markdown",
   "metadata": {},
   "source": [
    "## Feature Inversion\n",
    "\n",
    "The code you've written can do another cool thing. In an attempt to understand the types of features that convolutional networks learn to recognize, a recent paper [1] attempts to reconstruct an image from its feature representation. We can easily implement this idea using image gradients from the pretrained network, which is exactly what we did above (but with two different feature representations).\n",
    "\n",
    "Now, if you set the style weights to all be 0 and initialize the starting image to random noise instead of the content source image, you'll reconstruct an image from the feature representation of the content source image. You're starting with total noise, but you should end up with something that looks quite a bit like your original image.\n",
    "\n",
    "(Similarly, you could do \"texture synthesis\" from scratch if you set the content weight to 0 and initialize the starting image to random noise, but we won't ask you to do that here.) \n",
    "\n",
    "Run the following cell to try out feature inversion.\n",
    "\n",
    "[1] Aravindh Mahendran, Andrea Vedaldi, \"Understanding Deep Image Representations by Inverting them\", CVPR 2015\n"
   ]
  },
  {
   "cell_type": "code",
   "execution_count": null,
   "metadata": {},
   "outputs": [],
   "source": [
    "# Feature Inversion -- Starry Night + Tubingen\n",
    "params_inv = {\n",
    "    'content_image' : 'styles/tubingen.jpg',\n",
    "    'style_image' : 'styles/starry_night.jpg',\n",
    "    'image_size' : 192,\n",
    "    'style_size' : 192,\n",
    "    'content_layer' : 2,\n",
    "    'content_weight' : 6e-2,\n",
    "    'style_layers' : [0, 3, 5, 6],\n",
    "    'style_weights' : [0, 0, 0, 0], # we discard any contributions from style to the loss\n",
    "    'tv_weight' : 2e-2,\n",
    "    'init_random': True # we want to initialize our image to be random\n",
    "}\n",
    "\n",
    "style_transfer(**params_inv)"
   ]
  },
  {
   "cell_type": "code",
   "execution_count": null,
   "metadata": {},
   "outputs": [],
   "source": []
  }
 ],
 "metadata": {
  "kernelspec": {
   "display_name": "Python 3",
   "language": "python",
   "name": "python3"
  },
  "language_info": {
   "codemirror_mode": {
    "name": "ipython",
    "version": 3
   },
   "file_extension": ".py",
   "mimetype": "text/x-python",
   "name": "python",
   "nbconvert_exporter": "python",
   "pygments_lexer": "ipython3",
   "version": "3.7.3"
  }
 },
 "nbformat": 4,
 "nbformat_minor": 2
}
